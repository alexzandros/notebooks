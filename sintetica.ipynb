{
 "cells": [
  {
   "cell_type": "markdown",
   "metadata": {},
   "source": [
    "Los coeficientes siguientes representan el polinomio $ f(x)=x^3 + 4x^2 - 4x +2 $ y se quiere hacer una estimación inicial de $x_0 = 2$. Por lo tanto se procede a realizar la división sintética $ \\frac{x^3 + 4x^2 - 4x +2 }{x-2} $ la cual permite hallar los coeficientes de la derivada, y el mismo algoritmo nos va a permitir calcular el valor de la derivada en ese mismo punto.\n",
    "\n",
    "La salida observada muestra que: \n",
    "$$ \\frac{x^3 + 4x^2 - 4x +2 }{x-2} = x^2+6x+8 $$\n",
    "\n",
    "con un residuo de 18, por tanto la derivada de la función es $f'(x)=x^2+6x+8 $ y $f(2) = 18$"
   ]
  },
  {
   "cell_type": "code",
   "execution_count": 87,
   "metadata": {
    "collapsed": false
   },
   "outputs": [
    {
     "name": "stdout",
     "output_type": "stream",
     "text": [
      "-4.8996877890059105 2\n"
     ]
    }
   ],
   "source": [
    "def division_sintetica(coeficientes, punto):\n",
    "    if (isinstance(coeficientes,list) and\n",
    "    (isinstance(punto,float) or isinstance(punto,int))):\n",
    "        salida = len(coeficientes) * [0]\n",
    "        for i in range(len(coeficientes)):\n",
    "            if (i == 0):\n",
    "                valor = 0\n",
    "            else: \n",
    "                valor = salida[i - 1] * punto\n",
    "            salida[i] = coeficientes[i] + valor\n",
    "        return salida\n",
    "    else:\n",
    "        print (\"no es un arreglo de coeficientes o no es un valor numérico\" )\n",
    "        return None\n",
    "\n",
    "funcion_en_punto = 1\n",
    "derivada_en_punto = 1\n",
    "x = 2\n",
    "cont = 0\n",
    "while (abs(funcion_en_punto/derivada_en_punto) > 0.00001 and cont < 10000):\n",
    "    arreglo_salida= division_sintetica([1, 4, -4, 2],x)\n",
    "    coeficientes_deriv = arreglo_salida[:-1]\n",
    "    funcion_en_punto = arreglo_salida[-1:][0]\n",
    "    derivada_en_punto = division_sintetica(coeficientes_deriv,x)[-1:][0]\n",
    "    x1 = x - funcion_en_punto/derivada_en_punto\n",
    "    x = x1\n",
    "    cont += 1\n",
    "print(x, cont)"
   ]
  }
 ],
 "metadata": {
  "kernelspec": {
   "display_name": "Python 3",
   "language": "python",
   "name": "python3"
  },
  "language_info": {
   "codemirror_mode": {
    "name": "ipython",
    "version": 3
   },
   "file_extension": ".py",
   "mimetype": "text/x-python",
   "name": "python",
   "nbconvert_exporter": "python",
   "pygments_lexer": "ipython3",
   "version": "3.4.3"
  }
 },
 "nbformat": 4,
 "nbformat_minor": 0
}
